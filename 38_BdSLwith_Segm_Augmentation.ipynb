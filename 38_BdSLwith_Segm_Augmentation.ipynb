{
  "cells": [
    {
      "cell_type": "code",
      "source": [
        "!apt-get install -y -qq software-properties-common python-software-properties module-init-tools\n",
        "!add-apt-repository -y ppa:alessandro-strada/ppa 2>&1 > /dev/null\n",
        "!apt-get update -qq 2>&1 > /dev/null\n",
        "!apt-get -y install -qq google-drive-ocamlfuse fuse\n",
        "from google.colab import auth\n",
        "auth.authenticate_user()\n",
        "from oauth2client.client import GoogleCredentials\n",
        "creds = GoogleCredentials.get_application_default()\n",
        "import getpass\n",
        "!google-drive-ocamlfuse -headless -id={creds.client_id} -secret={creds.client_secret} < /dev/null 2>&1 | grep URL\n",
        "vcode = getpass.getpass()\n",
        "!echo {vcode} | google-drive-ocamlfuse -headless -id={creds.client_id} -secret={creds.client_secret}\n",
        "%cd /content\n",
        "!mkdir drive\n",
        "%cd drive\n",
        "!mkdir MyDrive\n",
        "%cd ..\n",
        "%cd ..\n",
        "!google-drive-ocamlfuse /content/drive/MyDrive"
      ],
      "metadata": {
        "colab": {
          "base_uri": "https://localhost:8080/",
          "height": 404
        },
        "id": "vnoVQa5yTTGB",
        "outputId": "8884a1bd-21ca-4ecc-e363-139ecab3b4d7"
      },
      "execution_count": null,
      "outputs": [
        {
          "output_type": "stream",
          "name": "stdout",
          "text": [
            "E: Package 'python-software-properties' has no installation candidate\n"
          ]
        },
        {
          "output_type": "error",
          "ename": "MessageError",
          "evalue": "ignored",
          "traceback": [
            "\u001b[0;31m---------------------------------------------------------------------------\u001b[0m",
            "\u001b[0;31mMessageError\u001b[0m                              Traceback (most recent call last)",
            "\u001b[0;32m<ipython-input-2-09ca1d6a5eee>\u001b[0m in \u001b[0;36m<module>\u001b[0;34m()\u001b[0m\n\u001b[1;32m      4\u001b[0m \u001b[0mget_ipython\u001b[0m\u001b[0;34m(\u001b[0m\u001b[0;34m)\u001b[0m\u001b[0;34m.\u001b[0m\u001b[0msystem\u001b[0m\u001b[0;34m(\u001b[0m\u001b[0;34m'apt-get -y install -qq google-drive-ocamlfuse fuse'\u001b[0m\u001b[0;34m)\u001b[0m\u001b[0;34m\u001b[0m\u001b[0;34m\u001b[0m\u001b[0m\n\u001b[1;32m      5\u001b[0m \u001b[0;32mfrom\u001b[0m \u001b[0mgoogle\u001b[0m\u001b[0;34m.\u001b[0m\u001b[0mcolab\u001b[0m \u001b[0;32mimport\u001b[0m \u001b[0mauth\u001b[0m\u001b[0;34m\u001b[0m\u001b[0;34m\u001b[0m\u001b[0m\n\u001b[0;32m----> 6\u001b[0;31m \u001b[0mauth\u001b[0m\u001b[0;34m.\u001b[0m\u001b[0mauthenticate_user\u001b[0m\u001b[0;34m(\u001b[0m\u001b[0;34m)\u001b[0m\u001b[0;34m\u001b[0m\u001b[0;34m\u001b[0m\u001b[0m\n\u001b[0m\u001b[1;32m      7\u001b[0m \u001b[0;32mfrom\u001b[0m \u001b[0moauth2client\u001b[0m\u001b[0;34m.\u001b[0m\u001b[0mclient\u001b[0m \u001b[0;32mimport\u001b[0m \u001b[0mGoogleCredentials\u001b[0m\u001b[0;34m\u001b[0m\u001b[0;34m\u001b[0m\u001b[0m\n\u001b[1;32m      8\u001b[0m \u001b[0mcreds\u001b[0m \u001b[0;34m=\u001b[0m \u001b[0mGoogleCredentials\u001b[0m\u001b[0;34m.\u001b[0m\u001b[0mget_application_default\u001b[0m\u001b[0;34m(\u001b[0m\u001b[0;34m)\u001b[0m\u001b[0;34m\u001b[0m\u001b[0;34m\u001b[0m\u001b[0m\n",
            "\u001b[0;32m/usr/local/lib/python3.7/dist-packages/google/colab/auth.py\u001b[0m in \u001b[0;36mauthenticate_user\u001b[0;34m(clear_output)\u001b[0m\n\u001b[1;32m    244\u001b[0m           \u001b[0;34m'request_auth'\u001b[0m\u001b[0;34m,\u001b[0m\u001b[0;34m\u001b[0m\u001b[0;34m\u001b[0m\u001b[0m\n\u001b[1;32m    245\u001b[0m           \u001b[0mrequest\u001b[0m\u001b[0;34m=\u001b[0m\u001b[0;34m{\u001b[0m\u001b[0;34m'authType'\u001b[0m\u001b[0;34m:\u001b[0m \u001b[0;34m'auth_user_ephemeral'\u001b[0m\u001b[0;34m}\u001b[0m\u001b[0;34m,\u001b[0m\u001b[0;34m\u001b[0m\u001b[0;34m\u001b[0m\u001b[0m\n\u001b[0;32m--> 246\u001b[0;31m           timeout_sec=None)\n\u001b[0m\u001b[1;32m    247\u001b[0m       \u001b[0m_enable_metadata_server_for_gcloud\u001b[0m\u001b[0;34m(\u001b[0m\u001b[0;34m)\u001b[0m\u001b[0;34m\u001b[0m\u001b[0;34m\u001b[0m\u001b[0m\n\u001b[1;32m    248\u001b[0m     \u001b[0;32melse\u001b[0m\u001b[0;34m:\u001b[0m\u001b[0;34m\u001b[0m\u001b[0;34m\u001b[0m\u001b[0m\n",
            "\u001b[0;32m/usr/local/lib/python3.7/dist-packages/google/colab/_message.py\u001b[0m in \u001b[0;36mblocking_request\u001b[0;34m(request_type, request, timeout_sec, parent)\u001b[0m\n\u001b[1;32m    173\u001b[0m   request_id = send_request(\n\u001b[1;32m    174\u001b[0m       request_type, request, parent=parent, expect_reply=True)\n\u001b[0;32m--> 175\u001b[0;31m   \u001b[0;32mreturn\u001b[0m \u001b[0mread_reply_from_input\u001b[0m\u001b[0;34m(\u001b[0m\u001b[0mrequest_id\u001b[0m\u001b[0;34m,\u001b[0m \u001b[0mtimeout_sec\u001b[0m\u001b[0;34m)\u001b[0m\u001b[0;34m\u001b[0m\u001b[0;34m\u001b[0m\u001b[0m\n\u001b[0m",
            "\u001b[0;32m/usr/local/lib/python3.7/dist-packages/google/colab/_message.py\u001b[0m in \u001b[0;36mread_reply_from_input\u001b[0;34m(message_id, timeout_sec)\u001b[0m\n\u001b[1;32m    104\u001b[0m         reply.get('colab_msg_id') == message_id):\n\u001b[1;32m    105\u001b[0m       \u001b[0;32mif\u001b[0m \u001b[0;34m'error'\u001b[0m \u001b[0;32min\u001b[0m \u001b[0mreply\u001b[0m\u001b[0;34m:\u001b[0m\u001b[0;34m\u001b[0m\u001b[0;34m\u001b[0m\u001b[0m\n\u001b[0;32m--> 106\u001b[0;31m         \u001b[0;32mraise\u001b[0m \u001b[0mMessageError\u001b[0m\u001b[0;34m(\u001b[0m\u001b[0mreply\u001b[0m\u001b[0;34m[\u001b[0m\u001b[0;34m'error'\u001b[0m\u001b[0;34m]\u001b[0m\u001b[0;34m)\u001b[0m\u001b[0;34m\u001b[0m\u001b[0;34m\u001b[0m\u001b[0m\n\u001b[0m\u001b[1;32m    107\u001b[0m       \u001b[0;32mreturn\u001b[0m \u001b[0mreply\u001b[0m\u001b[0;34m.\u001b[0m\u001b[0mget\u001b[0m\u001b[0;34m(\u001b[0m\u001b[0;34m'data'\u001b[0m\u001b[0;34m,\u001b[0m \u001b[0;32mNone\u001b[0m\u001b[0;34m)\u001b[0m\u001b[0;34m\u001b[0m\u001b[0;34m\u001b[0m\u001b[0m\n\u001b[1;32m    108\u001b[0m \u001b[0;34m\u001b[0m\u001b[0m\n",
            "\u001b[0;31mMessageError\u001b[0m: Error: credential propagation was unsuccessful"
          ]
        }
      ]
    },
    {
      "cell_type": "code",
      "source": [
        "from google.colab import drive\n",
        "drive._mount('/content/drive')"
      ],
      "metadata": {
        "id": "r4MT4ZW8UP3-"
      },
      "execution_count": null,
      "outputs": []
    },
    {
      "cell_type": "code",
      "execution_count": null,
      "metadata": {
        "id": "LAjVj7speUsP"
      },
      "outputs": [],
      "source": [
        "\n",
        "\n",
        "import os, cv2, math\n",
        "import tensorflow as tf\n",
        "import numpy as np\n",
        "from tensorflow.keras.models import Sequential\n",
        "from tensorflow.keras.layers import Dense,Dropout,Activation,Flatten\n",
        "import pickle\n",
        "from tensorflow.keras.callbacks import TensorBoard\n",
        "\n",
        "import pandas as pd\n",
        "import matplotlib.pyplot as plt\n",
        "from keras.utils import np_utils\n",
        "from sklearn. model_selection import train_test_split\n",
        "from keras.layers import GlobalAveragePooling2D, Lambda, Conv2D, MaxPooling2D, Dropout, Dense, Flatten, Activation\n",
        "from keras.preprocessing.image import ImageDataGenerator\n",
        "from tensorflow.keras.optimizers import Adam, SGD\n",
        "import tensorflow_hub as hub\n",
        "from tensorflow.keras.layers import BatchNormalization"
      ]
    },
    {
      "cell_type": "markdown",
      "metadata": {
        "id": "QX-FyG6f-HY2"
      },
      "source": [
        "\n",
        "#Preprocessing"
      ]
    },
    {
      "cell_type": "markdown",
      "metadata": {
        "id": "NaTnTnnGxDBs"
      },
      "source": [
        "##Segmentation Code Part"
      ]
    },
    {
      "cell_type": "code",
      "execution_count": null,
      "metadata": {
        "id": "-z7LhkTww-Xi"
      },
      "outputs": [],
      "source": [
        "import cv2                 # working with, mainly resizing, images\n",
        "import numpy as np         # dealing with arrays\n",
        "import os                  # dealing with directories\n",
        "from random import shuffle # mixing up or currently ordered data that might lead our network astray in training.\n",
        "import matplotlib.pyplot as plt\n",
        "import pandas as pd\n",
        "from keras.preprocessing.image import ImageDataGenerator\n",
        "from numpy import expand_dims\n",
        "\n",
        "import cv2\n",
        "import numpy as np\n",
        "\n",
        "\n",
        "class skinDetector(object):\n",
        "\n",
        "  # class constructor\n",
        "  def __init__(self, imageName):\n",
        "      self.image = cv2.imread(imageName)\n",
        "      if self.image is None:\n",
        "          print(\"IMAGE NOT FOUND\")\n",
        "          exit(1)\n",
        "      # self.image = cv2.resize(self.image,(600,600),cv2.INTER_AREA)\n",
        "      self.HSV_image = cv2.cvtColor(self.image, cv2.COLOR_BGR2HSV)\n",
        "      self.YCbCr_image = cv2.cvtColor(self.image, cv2.COLOR_BGR2YCR_CB)\n",
        "      self.binary_mask_image = self.HSV_image\n",
        "\n",
        "  # ================================================================================================================================\n",
        "  # function to process the image and segment the skin using the HSV and YCbCr colorspaces, followed by the Watershed algorithm\n",
        "  def find_skin(self):\n",
        "      self.__color_segmentation()\n",
        "      output=self.__region_based_segmentation()\n",
        "      return output\n",
        "\n",
        "  # ================================================================================================================================\n",
        "  # Apply a threshold to an HSV and YCbCr images, the used values were based on current research papers along with some\n",
        "  # empirical tests and visual evaluation\n",
        "  def __color_segmentation(self):\n",
        "      lower_HSV_values = np.array([0, 40, 0], dtype=\"uint8\")\n",
        "      upper_HSV_values = np.array([25, 255, 255], dtype=\"uint8\")\n",
        "\n",
        "      lower_YCbCr_values = np.array((0, 138, 67), dtype=\"uint8\")\n",
        "      upper_YCbCr_values = np.array((255, 173, 133), dtype=\"uint8\")\n",
        "\n",
        "      # A binary mask is returned. White pixels (255) represent pixels that fall into the upper/lower.\n",
        "      mask_YCbCr = cv2.inRange(self.YCbCr_image, lower_YCbCr_values, upper_YCbCr_values)\n",
        "      mask_HSV = cv2.inRange(self.HSV_image, lower_HSV_values, upper_HSV_values)\n",
        "\n",
        "      self.binary_mask_image = cv2.add(mask_HSV, mask_YCbCr)\n",
        "      #self.binary_mask_image = mask_HSV\n",
        "\n",
        "  # ================================================================================================================================\n",
        "  # Function that applies Watershed and morphological operations on the thresholded image\n",
        "  def __region_based_segmentation(self):\n",
        "      # morphological operations\n",
        "      image_foreground = cv2.erode(self.binary_mask_image, None, iterations=3)  # remove noise\n",
        "      dilated_binary_image = cv2.dilate(self.binary_mask_image, None,\n",
        "                                        iterations=3)  # The background region is reduced a little because of the dilate operation\n",
        "      ret, image_background = cv2.threshold(dilated_binary_image, 1, 128,\n",
        "                                            cv2.THRESH_BINARY)  # set all background regions to 128\n",
        "\n",
        "      image_marker = cv2.add(image_foreground,\n",
        "                              image_background)  # add both foreground and backgroud, forming markers. The markers are \"seeds\" of the future image regions.\n",
        "      image_marker32 = np.int32(image_marker)  # convert to 32SC1 format\n",
        "\n",
        "      cv2.watershed(self.image, image_marker32)\n",
        "      m = cv2.convertScaleAbs(image_marker32)  # convert back to uint8\n",
        "\n",
        "      # bitwise of the mask with the input image\n",
        "      ret, image_mask = cv2.threshold(m, 0, 255, cv2.THRESH_BINARY + cv2.THRESH_OTSU)\n",
        "      output = cv2.bitwise_and(self.image, self.image, mask=image_mask)\n",
        "\n",
        "      # show the images\n",
        "      #self.show_image(self.image)\n",
        "      #self.show_image(image_mask)\n",
        "      #return image_mask\n",
        "      #self.show_image(output)\n",
        "      return output\n",
        "\n",
        "  # ================================================================================================================================\n",
        "  def show_image(self, image):\n",
        "      cv2.imshow(\"Image\", image)\n",
        "      cv2.waitKey(0)\n",
        "      cv2.destroyWindow(\"Image\")"
      ]
    },
    {
      "cell_type": "markdown",
      "metadata": {
        "id": "wnPgZN2U5YSG"
      },
      "source": [
        "##Training Set"
      ]
    },
    {
      "cell_type": "code",
      "execution_count": null,
      "metadata": {
        "id": "hXGf0HtowVLG",
        "colab": {
          "base_uri": "https://localhost:8080/",
          "height": 249
        },
        "outputId": "dd0dc60b-1289-4edf-a7ea-ff1883ce02c6"
      },
      "outputs": [
        {
          "output_type": "error",
          "ename": "KeyboardInterrupt",
          "evalue": "ignored",
          "traceback": [
            "\u001b[0;31m---------------------------------------------------------------------------\u001b[0m",
            "\u001b[0;31mKeyboardInterrupt\u001b[0m                         Traceback (most recent call last)",
            "\u001b[0;32m<ipython-input-4-185d182bead9>\u001b[0m in \u001b[0;36m<module>\u001b[0;34m()\u001b[0m\n\u001b[1;32m     11\u001b[0m     \u001b[0;32mfor\u001b[0m \u001b[0mimg\u001b[0m \u001b[0;32min\u001b[0m \u001b[0mos\u001b[0m\u001b[0;34m.\u001b[0m\u001b[0mlistdir\u001b[0m\u001b[0;34m(\u001b[0m\u001b[0mfolder\u001b[0m\u001b[0;34m)\u001b[0m\u001b[0;34m:\u001b[0m\u001b[0;34m\u001b[0m\u001b[0;34m\u001b[0m\u001b[0m\n\u001b[1;32m     12\u001b[0m         \u001b[0mimage\u001b[0m\u001b[0;34m=\u001b[0m \u001b[0mos\u001b[0m\u001b[0;34m.\u001b[0m\u001b[0mpath\u001b[0m\u001b[0;34m.\u001b[0m\u001b[0mjoin\u001b[0m\u001b[0;34m(\u001b[0m\u001b[0mfolder\u001b[0m\u001b[0;34m,\u001b[0m\u001b[0mimg\u001b[0m\u001b[0;34m)\u001b[0m\u001b[0;34m\u001b[0m\u001b[0;34m\u001b[0m\u001b[0m\n\u001b[0;32m---> 13\u001b[0;31m         \u001b[0mimg_arr\u001b[0m\u001b[0;34m=\u001b[0m\u001b[0mcv2\u001b[0m\u001b[0;34m.\u001b[0m\u001b[0mimread\u001b[0m\u001b[0;34m(\u001b[0m\u001b[0mimage\u001b[0m\u001b[0;34m)\u001b[0m\u001b[0;34m\u001b[0m\u001b[0;34m\u001b[0m\u001b[0m\n\u001b[0m\u001b[1;32m     14\u001b[0m         \u001b[0;31m#detector = skinDetector(image)\u001b[0m\u001b[0;34m\u001b[0m\u001b[0;34m\u001b[0m\u001b[0;34m\u001b[0m\u001b[0m\n\u001b[1;32m     15\u001b[0m         \u001b[0;31m#img_arr = detector.find_skin()\u001b[0m\u001b[0;34m\u001b[0m\u001b[0;34m\u001b[0m\u001b[0;34m\u001b[0m\u001b[0m\n",
            "\u001b[0;31mKeyboardInterrupt\u001b[0m: "
          ]
        }
      ],
      "source": [
        "Directory=\"/content/drive/MyDrive/Colab Notebooks/Sign Language recognition/Dataset/Bangla/RESIZED_Training_DATA\"\n",
        "Categories=['0','1','2','3','4','5','6','7','8','9','10','11','12','13','14','15','16','17','18','19','20','21','22','23','24','25','26','27','28','29','30','31','32','33','34','35','36','37']\n",
        "IMAGE_SIZE=124\n",
        "\n",
        "training_data = []\n",
        "i=0\n",
        "for c in Categories:\n",
        "    folder = os.path.join(Directory,c)\n",
        "    index = Categories.index(c)\n",
        "    \n",
        "    for img in os.listdir(folder):\n",
        "        image= os.path.join(folder,img)\n",
        "        img_arr=cv2.imread(image)\n",
        "        #detector = skinDetector(image)\n",
        "        #img_arr = detector.find_skin()\n",
        "        img_arr=cv2.resize(img_arr,(IMAGE_SIZE,IMAGE_SIZE))\n",
        "        training_data.append([img_arr, index])\n",
        "        #print(i)\n",
        "        i=i+1\n",
        "import random\n",
        "random.shuffle(training_data)\n",
        "for sample in training_data[:5]:\n",
        "    print(sample[1])\n",
        "\n",
        "\n",
        "B38TrX=[]\n",
        "B38Try=[]\n",
        "for features, label in training_data:\n",
        "    B38TrX.append(features)\n",
        "    B38Try.append(label)\n",
        "B38TrnsX=np.array(B38TrX)\n",
        "B38Trnsy=np.array(B38Try)\n",
        "\n",
        "import pickle\n",
        "pickle_out=open(\"/content/drive/MyDrive/Colab Notebooks/Sign Language recognition/Dataset/Bangla/B38TrnsX.pickle\", \"wb\")\n",
        "pickle.dump(B38TrnsX,pickle_out)\n",
        "pickle_out.close()\n",
        "\n",
        "\n",
        "pickle_out=open(\"/content/drive/MyDrive/Colab Notebooks/Sign Language recognition/Dataset/Bangla/B38Trnsy.pickle\", \"wb\")\n",
        "pickle.dump(B38Trnsy,pickle_out)\n",
        "pickle_out.close()\n"
      ]
    },
    {
      "cell_type": "markdown",
      "source": [
        "#Training With Augmentation"
      ],
      "metadata": {
        "id": "wVluQ5nhNbgZ"
      }
    },
    {
      "cell_type": "code",
      "source": [
        "from numpy import expand_dims\n",
        "Directory=\"/content/drive/MyDrive/Colab Notebooks/Sign Language recognition/Dataset/Bangla/RESIZED_Training_DATA\"\n",
        "Categories=['0','1','2','3','4','5','6','7','8','9','10','11','12','13','14','15','16','17','18','19','20','21','22','23','24','25','26','27','28','29','30','31','32','33','34','35','36','37']\n",
        "Img_size=124\n",
        "Channel=3\n",
        "\n",
        "training_data = []\n",
        "i=0\n",
        "for c in Categories:\n",
        "    folder = os.path.join(Directory,c)\n",
        "    index = Categories.index(c)\n",
        "    \n",
        "    for img in os.listdir(folder):\n",
        "        image= os.path.join(folder,img)\n",
        "        img_arr=cv2.imread(image)\n",
        "        #detector = skinDetector(image)\n",
        "        #img_arr = detector.find_skin()\n",
        "        img_resized=cv2.resize(img_arr,(Img_size,Img_size))\n",
        "        training_data.append([img_resized, index])\n",
        "        \n",
        "        img_resized= expand_dims(img_resized, 0)\n",
        "        img_resized = expand_dims(img_resized, 3)\n",
        "        #print(img_resized.shape)\n",
        "        img_resized = img_resized.reshape(1, Img_size, Img_size, Channel)\n",
        "\n",
        "        datagenrot = ImageDataGenerator(rotation_range=30)\n",
        "        igr = datagenrot.flow(img_resized, batch_size=1)\n",
        "\n",
        "        datagenscal = ImageDataGenerator(zoom_range = .50)\n",
        "        igs = datagenscal.flow(img_resized, batch_size=1)\n",
        "\n",
        "        datagentrans = ImageDataGenerator(shear_range=-0.2)\n",
        "        igt = datagentrans.flow(img_resized, batch_size=1)\n",
        "\n",
        "        datagenwidthshift = ImageDataGenerator(height_shift_range=0.2)\n",
        "        wshift = datagenwidthshift.flow(img_resized, batch_size=1)\n",
        "\n",
        "        datagenheightshift = ImageDataGenerator(width_shift_range=0.2)\n",
        "        heightshift = datagenheightshift.flow(img_resized, batch_size=1)\n",
        "        \n",
        "        horizontal_flip = ImageDataGenerator(horizontal_flip=True)\n",
        "        hflip = horizontal_flip.flow(img_resized, batch_size=1)\n",
        "        \n",
        "        brithness = ImageDataGenerator(brightness_range=[0.2,1.0])\n",
        "        bright= brithness.flow(img_resized, batch_size=1)\n",
        "\n",
        "\n",
        "        for i in range(1):\n",
        "            batch1 = igr.next()\n",
        "            Images = batch1[0].astype('uint8')\n",
        "            Images=Images.reshape(Img_size, Img_size, Channel)\n",
        "            training_data.append([Images, index])\n",
        "\n",
        "\n",
        "            batch3 = igs.next()\n",
        "            Images = batch3[0].astype('uint8')\n",
        "            Images = Images.reshape(Img_size, Img_size, Channel)\n",
        "            training_data.append([Images, index])\n",
        "\n",
        "            #plt.imshow(Images)\n",
        "            #plt.show()\n",
        "\n",
        "            batch2 = igt.next()\n",
        "            Images = batch2[0].astype('uint8')\n",
        "            Images = Images.reshape(Img_size, Img_size, Channel)\n",
        "            training_data.append([Images, index])\n",
        "\n",
        "            # plt.imshow(Images)\n",
        "            #plt.show()\n",
        "            #break\n",
        "            batch4 = wshift.next()\n",
        "            Images = batch4[0].astype('uint8')\n",
        "            Images = Images.reshape(Img_size, Img_size, Channel)\n",
        "            training_data.append([Images, index])\n",
        "\n",
        "            batch5 = heightshift.next()\n",
        "            Images = batch5[0].astype('uint8')\n",
        "            Images = Images.reshape(Img_size, Img_size, Channel)\n",
        "            training_data.append([Images, index])\n",
        "            \"\"\"     \n",
        "            batch6 = hflip.next()\n",
        "            Images = batch6[0].astype('uint8')\n",
        "            Images = Images.reshape(Img_size, Img_size, Channel)\n",
        "            training_data.append([Images, index])\n",
        "\n",
        "            batch7 = bright.next()\n",
        "            Images = batch7[0].astype('uint8')\n",
        "            Images = Images.reshape(Img_size, Img_size, Channel)\n",
        "            training_data.append([Images, index])\n",
        "            \"\"\"\n",
        "         \n",
        "\n",
        "        #print(i)\n",
        "        i=i+1\n",
        "\n",
        "\n",
        "import random\n",
        "random.shuffle(training_data)\n",
        "for sample in training_data[:5]:\n",
        "    print(sample[1])\n",
        "\n",
        "\n",
        "B38TrX=[]\n",
        "B38Try=[]\n",
        "for features, label in training_data:\n",
        "    B38TrX.append(features)\n",
        "    B38Try.append(label)\n",
        "B38TrnsX_aug=np.array(B38TrX)\n",
        "B38Trnsy_aug=np.array(B38Try)\n",
        "\n",
        "import pickle\n",
        "pickle_out=open(\"/content/drive/MyDrive/Colab Notebooks/Sign Language recognition/Dataset/Bangla/B38TrnsX_aug.pickle\", \"wb\")\n",
        "pickle.dump(B38TrnsX_aug,pickle_out)\n",
        "pickle_out.close()\n",
        "\n",
        "\n",
        "pickle_out=open(\"/content/drive/MyDrive/Colab Notebooks/Sign Language recognition/Dataset/Bangla/B38Trnsy_aug.pickle\", \"wb\")\n",
        "pickle.dump(B38Trnsy_aug,pickle_out)\n",
        "pickle_out.close()\n"
      ],
      "metadata": {
        "id": "2hUkQYT3NgvJ",
        "colab": {
          "base_uri": "https://localhost:8080/"
        },
        "outputId": "dc830d5b-60fb-436d-a5d1-8cd317519327"
      },
      "execution_count": null,
      "outputs": [
        {
          "output_type": "stream",
          "name": "stdout",
          "text": [
            "4\n",
            "12\n",
            "32\n",
            "25\n",
            "1\n"
          ]
        }
      ]
    },
    {
      "cell_type": "markdown",
      "metadata": {
        "id": "NFsmZcqu5bhr"
      },
      "source": [
        "##Test Set"
      ]
    },
    {
      "cell_type": "code",
      "execution_count": null,
      "metadata": {
        "id": "NNTv4TeO5lFM"
      },
      "outputs": [],
      "source": [
        "Directory=\"/content/drive/MyDrive/Colab Notebooks/Sign Language recognition/Dataset/Bangla/RESIZED_TESTING_DATA\"\n",
        "Categories=['0','1','2','3','4','5','6','7','8','9','10','11','12','13','14','15','16','17','18','19','20','21','22','23','24','25','26','27','28','29','30','31','32','33','34','35','36','37']\n",
        "IMAGE_SIZE=124\n",
        "\n",
        "training_data = []\n",
        "i=0\n",
        "for c in Categories:\n",
        "    folder = os.path.join(Directory,c)\n",
        "    index = Categories.index(c)\n",
        "    \n",
        "    for img in os.listdir(folder):\n",
        "        image= os.path.join(folder,img)\n",
        "        img_arr=cv2.imread(image)\n",
        "        #detector = skinDetector(image)\n",
        "        #img_arr = detector.find_skin()\n",
        "        img_arr=cv2.resize(img_arr,(IMAGE_SIZE,IMAGE_SIZE))\n",
        "        training_data.append([img_arr, index])\n",
        "        #print(i)\n",
        "        i=i+1\n",
        "import random\n",
        "random.shuffle(training_data)\n",
        "for sample in training_data[:5]:\n",
        "    print(sample[1])\n",
        "\n",
        "\n",
        "B38VX=[]\n",
        "B38Vy=[]\n",
        "for features, label in training_data:\n",
        "    B38VX.append(features)\n",
        "    B38Vy.append(label)\n",
        "B38VnsX=np.array(B38VX)\n",
        "B38Vnsy=np.array(B38Vy)\n",
        "\n",
        "import pickle\n",
        "pickle_out=open(\"/content/drive/MyDrive/Colab Notebooks/Sign Language recognition/Dataset/Bangla/B38VnsX.pickle\", \"wb\")\n",
        "pickle.dump(B38VnsX,pickle_out)\n",
        "pickle_out.close()\n",
        "\n",
        "pickle_out=open(\"/content/drive/MyDrive/Colab Notebooks/Sign Language recognition/Dataset/Bangla/B38Vnsy.pickle\", \"wb\")\n",
        "pickle.dump(B38Vnsy,pickle_out)\n",
        "pickle_out.close()\n"
      ]
    },
    {
      "cell_type": "markdown",
      "metadata": {
        "id": "64x-eJjfpu2R"
      },
      "source": [
        "#Load Segmentation Data"
      ]
    },
    {
      "cell_type": "markdown",
      "metadata": {
        "id": "v0hjB9Fqv8cL"
      },
      "source": [
        "#Load Not Segmentation Data"
      ]
    },
    {
      "cell_type": "code",
      "execution_count": null,
      "metadata": {
        "id": "1jh0L851wAIO"
      },
      "outputs": [],
      "source": [
        "path=\"/content/drive/MyDrive/Colab Notebooks/Sign Language recognition/Dataset/Bangla\"\n",
        "\n",
        "X_Train=pickle.load(open(os.path.join(path,\"B38TrnsX.pickle\"),\"rb\"))\n",
        "Y_train=pickle.load(open(os.path.join(path,\"B38Trnsy.pickle\"),\"rb\"))\n",
        "X_Test=pickle.load(open(os.path.join(path,\"B38VnsX.pickle\"),\"rb\"))\n",
        "Y_test=pickle.load(open(os.path.join(path,\"B38Vnsy.pickle\"),\"rb\"))\n"
      ]
    },
    {
      "cell_type": "markdown",
      "source": [
        "#Load Augmentation"
      ],
      "metadata": {
        "id": "QA2PyD9gR9VR"
      }
    },
    {
      "cell_type": "code",
      "source": [
        "path=\"/content/drive/MyDrive/Colab Notebooks/Sign Language recognition/Dataset/Bangla\"\n",
        "\n",
        "X_Train=pickle.load(open(os.path.join(path,\"B38TrnsX_aug.pickle\"),\"rb\"))\n",
        "Y_train=pickle.load(open(os.path.join(path,\"B38Trnsy_aug.pickle\"),\"rb\"))\n",
        "X_Test=pickle.load(open(os.path.join(path,\"B38VnsX.pickle\"),\"rb\"))\n",
        "Y_test=pickle.load(open(os.path.join(path,\"B38Vnsy.pickle\"),\"rb\"))\n",
        "print(X_Train.shape)\n",
        "print(X_Test.shape)\n",
        "print(Y_train.shape)\n",
        "print(Y_test.shape)"
      ],
      "metadata": {
        "id": "UxKCGW0CSD9q",
        "colab": {
          "base_uri": "https://localhost:8080/"
        },
        "outputId": "e8fbd2e5-97b8-455b-ad61-fbe9f980e772"
      },
      "execution_count": null,
      "outputs": [
        {
          "output_type": "stream",
          "name": "stdout",
          "text": [
            "(66426, 124, 124, 3)\n",
            "(1520, 124, 124, 3)\n",
            "(66426,)\n",
            "(1520,)\n"
          ]
        }
      ]
    },
    {
      "cell_type": "code",
      "source": [
        "print(X_Train.shape)\n",
        "print(X_Test.shape)\n",
        "print(Y_train.shape)\n",
        "print(Y_test.shape)"
      ],
      "metadata": {
        "colab": {
          "base_uri": "https://localhost:8080/"
        },
        "id": "q5w7WGqLExDu",
        "outputId": "8e4c9fd4-9f85-4f81-e214-591c8ca69fb4"
      },
      "execution_count": null,
      "outputs": [
        {
          "output_type": "stream",
          "name": "stdout",
          "text": [
            "(11071, 124, 124, 3)\n",
            "(1520, 124, 124, 3)\n",
            "(11071,)\n",
            "(1520,)\n"
          ]
        }
      ]
    },
    {
      "cell_type": "code",
      "execution_count": null,
      "metadata": {
        "id": "qsuMR_wvbnUn",
        "colab": {
          "base_uri": "https://localhost:8080/"
        },
        "outputId": "b8e66a48-3e14-4dd4-f1c5-fa3b1944a0e9"
      },
      "outputs": [
        {
          "output_type": "stream",
          "name": "stdout",
          "text": [
            "x train shape (11071, 124, 124, 3)\n",
            "y train shape (11071,)\n",
            "x test shape (1520, 124, 124, 3)\n",
            "y test shape (1520,)\n",
            "Shape before one-hot encoding:  (11071,)\n",
            "Shape after one-hot encoding: for y train (11071, 38)\n",
            "Shape after one-hot encoding: for y test (1520, 38)\n"
          ]
        }
      ],
      "source": [
        "import os, cv2, math\n",
        "import tensorflow as tf\n",
        "import numpy as np\n",
        "from tensorflow.keras.models import Sequential\n",
        "from tensorflow.keras.layers import Dense,Dropout,Activation,Flatten\n",
        "from tensorflow.keras.layers import Conv2D, MaxPooling2D\n",
        "import pickle\n",
        "from tensorflow.keras.callbacks import TensorBoard\n",
        "import time\n",
        "IMAGE_SIZE=124\n",
        "\n",
        "class_labels=38\n",
        "CHANNEL=3\n",
        "\n",
        "from keras.utils import np_utils\n",
        "from sklearn. model_selection import train_test_split\n",
        "x_train, x_test,y_train,y_test=X_Train,X_Test,Y_train,Y_test\n",
        "print('x train shape', x_train.shape)\n",
        "print('y train shape',y_train.shape)\n",
        "print('x test shape',x_test.shape)\n",
        "print('y test shape',y_test.shape)\n",
        "#\n",
        "y_train_ml=y_train\n",
        "y_test_ml=y_test\n",
        "# Flattening the images from the 28x28 pixels to 1D 787 pixels\n",
        "#x_train = x_train.reshape(-1, 1600)\n",
        "#x_test = x_test.reshape(-1, 1600)\n",
        "\n",
        "#from sklearn import preprocessing\n",
        "#import numpy as np\n",
        "#x_train=preprocessing.StandardScaler().fit(x_train)\n",
        "#x_test=preprocessing.StandardScaler().fit(x_test)\n",
        "#x_train=np.array(x_train)\n",
        "#x_test=np.array(x_test)\n",
        "\n",
        "# normalizing the data to help with the training\n",
        "#x_train /= 255.0\n",
        "#x_test /= 255.0\n",
        "#x_train/= 255.\n",
        "#x_train -= 0.5\n",
        "#x_train*= 2.\n",
        "\n",
        "#x_test/= 255.\n",
        "#x_test -= 0.5\n",
        "#x_test*= 2.\n",
        "\n",
        "\n",
        "\n",
        "x_train = x_train.astype('float32')\n",
        "x_test = x_test.astype('float32')\n",
        "\n",
        "# one-hot encoding using keras' numpy-related utilities\n",
        "n_classes = 38\n",
        "print(\"Shape before one-hot encoding: \", y_train.shape)\n",
        "y_train = np_utils.to_categorical(y_train, n_classes)\n",
        "y_test = np_utils.to_categorical(y_test, n_classes)\n",
        "print(\"Shape after one-hot encoding: for y train\", y_train.shape)\n",
        "print(\"Shape after one-hot encoding: for y test\", y_test.shape)"
      ]
    },
    {
      "cell_type": "code",
      "source": [
        "print(x_train.shape)"
      ],
      "metadata": {
        "colab": {
          "base_uri": "https://localhost:8080/",
          "height": 174
        },
        "id": "WmANRo6ZETYa",
        "outputId": "f0f66e3d-25a0-4eb5-fbb9-766be34a6b2c"
      },
      "execution_count": null,
      "outputs": [
        {
          "output_type": "error",
          "ename": "NameError",
          "evalue": "ignored",
          "traceback": [
            "\u001b[0;31m---------------------------------------------------------------------------\u001b[0m",
            "\u001b[0;31mNameError\u001b[0m                                 Traceback (most recent call last)",
            "\u001b[0;32m<ipython-input-4-b13f4b81d166>\u001b[0m in \u001b[0;36m<module>\u001b[0;34m()\u001b[0m\n\u001b[0;32m----> 1\u001b[0;31m \u001b[0mprint\u001b[0m\u001b[0;34m(\u001b[0m\u001b[0mx_train\u001b[0m\u001b[0;34m.\u001b[0m\u001b[0mshape\u001b[0m\u001b[0;34m)\u001b[0m\u001b[0;34m\u001b[0m\u001b[0;34m\u001b[0m\u001b[0m\n\u001b[0m",
            "\u001b[0;31mNameError\u001b[0m: name 'x_train' is not defined"
          ]
        }
      ]
    },
    {
      "cell_type": "markdown",
      "metadata": {
        "id": "_eQQ5O9TooxE"
      },
      "source": [
        "#All Package"
      ]
    },
    {
      "cell_type": "code",
      "execution_count": null,
      "metadata": {
        "id": "URUKBT6momtO"
      },
      "outputs": [],
      "source": [
        "import pickle\n",
        "import numpy as np\n",
        "import numpy as np\n",
        "import time\n",
        "import sklearn\n",
        "from sklearn.svm import LinearSVC, SVC\n",
        "from sklearn.model_selection import KFold\n",
        "from sklearn.feature_selection import mutual_info_classif\n",
        "from sklearn.model_selection import train_test_split\n",
        "from sklearn.decomposition import PCA\n",
        "from sklearn.linear_model import LogisticRegression\n",
        "from sklearn.ensemble import RandomForestClassifier\n",
        "from sklearn.neighbors import KNeighborsClassifier\n",
        "from sklearn.ensemble import RandomForestClassifier\n",
        "from sklearn.preprocessing import StandardScaler\n",
        "from tensorflow.keras.models import Sequential\n",
        "from tensorflow.keras.layers import Dense,Dropout,Activation,Flatten\n",
        "from tensorflow.keras.layers import Conv2D, MaxPooling2D\n",
        "from tensorflow.keras.layers import Conv2D, MaxPooling2D\n",
        "from tensorflow.keras.layers import GlobalAveragePooling2D,BatchNormalization, Lambda, Conv2D, MaxPooling2D, Dropout, Dense, Flatten, Activation\n",
        "from tensorflow.keras.optimizers import Adam, SGD\n",
        "from tensorflow.keras.preprocessing.image import ImageDataGenerator\n",
        "#from keras import optimizers\n",
        "# import xgboost as xgb\n",
        "from sklearn.naive_bayes import GaussianNB\n",
        "#from sklearn.decomposition import PCA\n",
        "import matplotlib.pyplot as plt\n",
        "#from mlxtend.plotting import plot_decision_regions\n",
        "\n",
        "from sklearn.discriminant_analysis import LinearDiscriminantAnalysis\n",
        "\n",
        "import os, cv2, math\n",
        "import tensorflow as tf\n",
        "import numpy as np\n",
        "from tensorflow.keras.models import Sequential\n",
        "from tensorflow.keras.layers import Dense,Dropout,Activation,Flatten\n",
        "from tensorflow.keras.layers import Conv2D, MaxPooling2D\n",
        "import pickle\n",
        "from tensorflow.keras.callbacks import TensorBoard\n",
        "import time\n",
        "import datetime\n",
        "import numpy as np\n",
        "\n",
        "import tensorflow as tf\n",
        "from tensorflow.keras.models import Sequential\n",
        "from tensorflow.keras.layers import Dense,Dropout,Activation,Flatten\n",
        "from tensorflow.keras.layers import Conv2D, MaxPooling2D\n",
        "import pickle\n",
        "from tensorflow.keras.callbacks import TensorBoard\n",
        "\n",
        "images_train=x_train\n",
        "class_train=y_train \n",
        "images_test=x_test\n",
        "class_test=y_test"
      ]
    },
    {
      "cell_type": "markdown",
      "metadata": {
        "id": "C7TdLW2yVth3"
      },
      "source": [
        "#Model"
      ]
    },
    {
      "cell_type": "markdown",
      "metadata": {
        "id": "8VRSUnJrVx36"
      },
      "source": [
        "##1. Cipher Model"
      ]
    },
    {
      "cell_type": "code",
      "execution_count": null,
      "metadata": {
        "id": "a--CgdSmV0no"
      },
      "outputs": [],
      "source": [
        "%matplotlib inline\n",
        "import numpy as np\n",
        "import matplotlib\n",
        "from matplotlib import pyplot as plt\n",
        "from keras.models import Sequential\n",
        "\n",
        "#from keras.optimizers import SGD\n",
        "from keras.callbacks import ModelCheckpoint\n",
        "from keras.constraints import maxnorm\n",
        "from keras.models import load_model\n",
        "from keras.layers import GlobalAveragePooling2D, Lambda, Conv2D, MaxPooling2D, Dropout, Dense, Flatten, Activation\n",
        "from keras.preprocessing.image import ImageDataGenerator\n",
        "\n",
        "matplotlib.style.use('ggplot')\n",
        "\n",
        "# Hight and width of th\n",
        "# 3 channels, Red, Green and Blue\n",
        "CHANNELS = 3\n",
        "# Number of epochs\n",
        "NUM_EPOCH = 50\n",
        "# learning rate\n",
        "LEARN_RATE = 1.0e-4\n",
        "\n",
        "images_train=x_train.reshape(-1,IMAGE_SIZE ,IMAGE_SIZE ,3)\n",
        "class_train=labels_train=y_train\n",
        "images_test=x_test.reshape(-1,IMAGE_SIZE ,IMAGE_SIZE ,3)\n",
        "class_test=labels_test=y_test\n",
        "\n",
        "print(\"Training set size:\\t\",len(images_train))\n",
        "print(\"Testing set size:\\t\",len(images_test))\n",
        "\n",
        "def pure_cnn_model():\n",
        "    \n",
        "    model = Sequential()\n",
        "    \n",
        "    model.add(Conv2D(96, (3, 3), activation='relu', padding = 'same', input_shape=(IMAGE_SIZE,IMAGE_SIZE,CHANNELS)))    \n",
        "    model.add(Dropout(0.2))\n",
        "     \n",
        "    model.add(Conv2D(96, (3, 3), activation='relu', padding = 'same'))  \n",
        "    model.add(Conv2D(96, (3, 3), activation='relu', padding = 'same', strides = 2))    \n",
        "    model.add(Dropout(0.5))\n",
        "    \n",
        "    model.add(Conv2D(192, (3, 3), activation='relu', padding = 'same'))    \n",
        "    model.add(Conv2D(192, (3, 3), activation='relu', padding = 'same'))\n",
        "    model.add(Conv2D(192, (3, 3), activation='relu', padding = 'same', strides = 2))    \n",
        "    model.add(Dropout(0.5))    \n",
        "    \n",
        "    model.add(Conv2D(192, (3, 3), padding = 'same'))\n",
        "    model.add(Activation('relu'))\n",
        "    model.add(Conv2D(192, (1, 1),padding='valid'))\n",
        "    model.add(Activation('relu'))\n",
        "    model.add(Conv2D(38, (1, 1), padding='valid'))\n",
        "    model.add(GlobalAveragePooling2D())\n",
        "    \n",
        "    model.add(Activation('softmax'))\n",
        "    model.summary()\n",
        "    \n",
        "    return model\n",
        "#Save the model after every epoch\n",
        "checkpoint = ModelCheckpoint('best_model_improved.h5',  # model filename\n",
        "                             monitor='val_loss', # quantity to monitor\n",
        "                             verbose=0, # verbosity - 0 or 1\n",
        "                             save_best_only= True, # The latest best model will not be overwritten\n",
        "                             mode='auto') # The decision to overwrite model is made \n",
        "                                          # automatically depending on the quantity to monitor\n"
      ]
    },
    {
      "cell_type": "code",
      "execution_count": null,
      "metadata": {
        "colab": {
          "background_save": true
        },
        "id": "4Unfur7LVsc8"
      },
      "outputs": [],
      "source": [
        "model = pure_cnn_model()                                        \n",
        "\n",
        "model.compile(loss='categorical_crossentropy', # Better loss function for neural networks\n",
        "              optimizer='adam', # Adam optimizer with 1.0e-4 learning rate\n",
        "              metrics = ['accuracy']) # Metrics to be evaluated by the model\n",
        "\n",
        "model_details = model.fit(images_train, class_train,\n",
        "                    batch_size = 128,\n",
        "                    epochs = NUM_EPOCH, # number of iterations\n",
        "                    validation_data= (images_test, class_test),\n",
        "                    callbacks=[checkpoint],  verbose=1)\n"
      ]
    },
    {
      "cell_type": "markdown",
      "metadata": {
        "id": "V7AuOzKnaq23"
      },
      "source": [
        "#hadi"
      ]
    },
    {
      "cell_type": "markdown",
      "source": [
        "#Hadi code  93%"
      ],
      "metadata": {
        "id": "URWRHj2xyvZ4"
      }
    },
    {
      "cell_type": "code",
      "source": [
        "\n",
        "NUM_EPOCH = 500\n",
        "# learning rate\n",
        "LEARN_RATE = 1.0e-4\n",
        "nb_classes=38\n",
        "\n",
        "from keras.preprocessing.image import ImageDataGenerator\n",
        "# Image Augmentation\n",
        "datagen = ImageDataGenerator(\n",
        "    featurewise_center=False,  # set input mean to 0 over the dataset\n",
        "    samplewise_center=False,  # set each sample mean to 0\n",
        "    featurewise_std_normalization=False,  # divide inputs by std of the dataset\n",
        "    samplewise_std_normalization=False,  # divide each input by its std\n",
        "    zca_whitening=False,  # apply ZCA whitening\n",
        "    rotation_range=45,  # randomly rotate images in the range (degrees, 0 to 180)\n",
        "    width_shift_range=0.2,  # randomly shift images horizontally (fraction of total width)\n",
        "    height_shift_range=0.2,  # randomly shift images vertically (fraction of total height)\n",
        "    horizontal_flip=True,  # randomly flip images\n",
        "    vertical_flip=False)  # randomly flip images\n",
        "\n",
        "datagen.fit(images_train)\n",
        "\n",
        "\n",
        "# Create CNN model\n",
        "model = Sequential()\n",
        "\n",
        "model.add(Conv2D(96, (3, 3), activation='relu', padding = 'same', input_shape=(IMAGE_SIZE,IMAGE_SIZE,CHANNEL)))    \n",
        "model.add(Dropout(0.2))                                                                                                   \n",
        "\n",
        "model.add(Conv2D(96, (3, 3), activation='relu', padding = 'same'))  \n",
        "model.add(Conv2D(96, (3, 3), activation='relu', padding = 'same', strides = 2))    \n",
        "model.add(Dropout(0.5))\n",
        "model.add(MaxPooling2D(pool_size=(2, 2)))\n",
        "\n",
        "model.add(Conv2D(192, (3, 3), activation='relu', padding = 'same'))    \n",
        "model.add(Conv2D(192, (3, 3), activation='relu', padding = 'same'))\n",
        "model.add(Conv2D(192, (3, 3), activation='relu', padding = 'same', strides = 2))    \n",
        "model.add(Dropout(0.5))    \n",
        "model.add(MaxPooling2D(pool_size=(2, 2)))\n",
        "\n",
        "model.add(Conv2D(192, (3, 3), padding = 'same'))\n",
        "model.add(Activation('relu'))\n",
        "model.add(Conv2D(192, (1, 1),padding='valid'))\n",
        "model.add(Activation('relu'))\n",
        "model.add(Conv2D(38, (1, 1), padding='valid'))\n",
        "\n",
        "model.add(BatchNormalization())\n",
        "model.add(GlobalAveragePooling2D())\n",
        "\n",
        "model.add(Activation('softmax'))  \n",
        "                             \n",
        "model.summary()\n"
      ],
      "metadata": {
        "id": "GtwYqUrRyxgQ",
        "colab": {
          "base_uri": "https://localhost:8080/"
        },
        "outputId": "28374a5b-77d6-4f13-f7a5-d41dcaff65eb"
      },
      "execution_count": null,
      "outputs": [
        {
          "output_type": "stream",
          "name": "stdout",
          "text": [
            "Model: \"sequential\"\n",
            "_________________________________________________________________\n",
            " Layer (type)                Output Shape              Param #   \n",
            "=================================================================\n",
            " conv2d (Conv2D)             (None, 124, 124, 96)      2688      \n",
            "                                                                 \n",
            " dropout (Dropout)           (None, 124, 124, 96)      0         \n",
            "                                                                 \n",
            " conv2d_1 (Conv2D)           (None, 124, 124, 96)      83040     \n",
            "                                                                 \n",
            " conv2d_2 (Conv2D)           (None, 62, 62, 96)        83040     \n",
            "                                                                 \n",
            " dropout_1 (Dropout)         (None, 62, 62, 96)        0         \n",
            "                                                                 \n",
            " max_pooling2d (MaxPooling2D  (None, 31, 31, 96)       0         \n",
            " )                                                               \n",
            "                                                                 \n",
            " conv2d_3 (Conv2D)           (None, 31, 31, 192)       166080    \n",
            "                                                                 \n",
            " conv2d_4 (Conv2D)           (None, 31, 31, 192)       331968    \n",
            "                                                                 \n",
            " conv2d_5 (Conv2D)           (None, 16, 16, 192)       331968    \n",
            "                                                                 \n",
            " dropout_2 (Dropout)         (None, 16, 16, 192)       0         \n",
            "                                                                 \n",
            " max_pooling2d_1 (MaxPooling  (None, 8, 8, 192)        0         \n",
            " 2D)                                                             \n",
            "                                                                 \n",
            " conv2d_6 (Conv2D)           (None, 8, 8, 192)         331968    \n",
            "                                                                 \n",
            " activation (Activation)     (None, 8, 8, 192)         0         \n",
            "                                                                 \n",
            " conv2d_7 (Conv2D)           (None, 8, 8, 192)         37056     \n",
            "                                                                 \n",
            " activation_1 (Activation)   (None, 8, 8, 192)         0         \n",
            "                                                                 \n",
            " conv2d_8 (Conv2D)           (None, 8, 8, 38)          7334      \n",
            "                                                                 \n",
            " batch_normalization (BatchN  (None, 8, 8, 38)         152       \n",
            " ormalization)                                                   \n",
            "                                                                 \n",
            " global_average_pooling2d (G  (None, 38)               0         \n",
            " lobalAveragePooling2D)                                          \n",
            "                                                                 \n",
            " activation_2 (Activation)   (None, 38)                0         \n",
            "                                                                 \n",
            "=================================================================\n",
            "Total params: 1,375,294\n",
            "Trainable params: 1,375,218\n",
            "Non-trainable params: 76\n",
            "_________________________________________________________________\n"
          ]
        }
      ]
    },
    {
      "cell_type": "code",
      "source": [
        "model=[]"
      ],
      "metadata": {
        "id": "KPbEGI8YLoUp"
      },
      "execution_count": null,
      "outputs": []
    },
    {
      "cell_type": "code",
      "source": [
        "model.compile(loss='categorical_crossentropy', # Better loss function for neural networks\n",
        "              optimizer=Adam(learning_rate=LEARN_RATE), # Adam optimizer with 1.0e-4 learning rate\n",
        "              metrics = ['accuracy']) # Metrics to be evaluated by the model\n",
        "\n",
        "\n",
        "model_details = model.fit(images_train, class_train,\n",
        "                    batch_size = 128,\n",
        "                    epochs = NUM_EPOCH, # number of iterations\n",
        "                    validation_data= (images_test, class_test),  verbose=1)"
      ],
      "metadata": {
        "id": "rwS_8rO4LmaJ",
        "colab": {
          "base_uri": "https://localhost:8080/",
          "height": 249
        },
        "outputId": "05199a39-59b2-4bcf-9f1c-889515aaac03"
      },
      "execution_count": null,
      "outputs": [
        {
          "output_type": "error",
          "ename": "NameError",
          "evalue": "ignored",
          "traceback": [
            "\u001b[0;31m---------------------------------------------------------------------------\u001b[0m",
            "\u001b[0;31mNameError\u001b[0m                                 Traceback (most recent call last)",
            "\u001b[0;32m<ipython-input-1-3d8ab15638dd>\u001b[0m in \u001b[0;36m<module>\u001b[0;34m()\u001b[0m\n\u001b[0;32m----> 1\u001b[0;31m model.compile(loss='categorical_crossentropy', # Better loss function for neural networks\n\u001b[0m\u001b[1;32m      2\u001b[0m               \u001b[0moptimizer\u001b[0m\u001b[0;34m=\u001b[0m\u001b[0mAdam\u001b[0m\u001b[0;34m(\u001b[0m\u001b[0mlearning_rate\u001b[0m\u001b[0;34m=\u001b[0m\u001b[0mLEARN_RATE\u001b[0m\u001b[0;34m)\u001b[0m\u001b[0;34m,\u001b[0m \u001b[0;31m# Adam optimizer with 1.0e-4 learning rate\u001b[0m\u001b[0;34m\u001b[0m\u001b[0;34m\u001b[0m\u001b[0m\n\u001b[1;32m      3\u001b[0m               metrics = ['accuracy']) # Metrics to be evaluated by the model\n\u001b[1;32m      4\u001b[0m \u001b[0;34m\u001b[0m\u001b[0m\n\u001b[1;32m      5\u001b[0m \u001b[0;34m\u001b[0m\u001b[0m\n",
            "\u001b[0;31mNameError\u001b[0m: name 'model' is not defined"
          ]
        }
      ]
    },
    {
      "cell_type": "markdown",
      "source": [
        "#confusion matrix"
      ],
      "metadata": {
        "id": "tq4uxfds31WP"
      }
    },
    {
      "cell_type": "code",
      "source": [
        "class_names=['0','1','2','3','4','5','6','7','8','9','10','11','12','13','14','15','16','17','18','19','20','21','22','23','24','25','26','27','28','29','30','31','32','33','34','35','36','37']\n",
        "x_test = x_test.reshape(x_test.shape[0], IMAGE_SIZE, IMAGE_SIZE, 3)\n",
        "prediction=model.predict(x_test, batch_size=128, verbose=1)\n",
        "#prediction_class=success_rate.predict_classes(x_test, batch_size=128, verbose=0)\n",
        "rounded_predictions=np.argmax(prediction, axis=1)\n",
        "\n",
        "# Calculate the confusion matrix using sklearn.metrics\n",
        "cm = sklearn.metrics.confusion_matrix(y_test_ml, rounded_predictions)\n",
        "    \n",
        "figure = plot_confusion_matrix(cm, class_names=class_names)\n",
        "\n",
        "\n",
        "#cm_image = plot_to_image(figure)\n",
        "\n",
        "    \n",
        "    # Log the confusion matrix as an image summary.\n",
        "#with file_writer_cm.as_default():\n",
        "      #tf.summary.image(\"Confusion Matrix\", cm_image, step=epoch)\n",
        "\n"
      ],
      "metadata": {
        "colab": {
          "base_uri": "https://localhost:8080/",
          "height": 1000
        },
        "id": "elc6sMmX3tso",
        "outputId": "0c3e1bc4-beac-471e-b1b5-2ae7b348ce74"
      },
      "execution_count": null,
      "outputs": [
        {
          "output_type": "stream",
          "name": "stdout",
          "text": [
            "12/12 [==============================] - 1s 73ms/step\n"
          ]
        },
        {
          "output_type": "display_data",
          "data": {
            "image/png": "[encoded data removed]",
            "text/plain": [
              "<Figure size 1152x1152 with 2 Axes>"
            ]
          },
          "metadata": {
            "needs_background": "light"
          }
        }
      ]
    },
    {
      "cell_type": "code",
      "source": [
        "from sklearn.metrics import classification_report, confusion_matrix, accuracy_score\n",
        "result_rf = confusion_matrix(y_test_ml, rounded_predictions)\n",
        "\n",
        "result1_rf = classification_report(y_test_ml, rounded_predictions)\n",
        "print(\"\\nClassification Report for pca & random forest:\",)\n",
        "print (result1_rf)\n",
        "\n"
      ],
      "metadata": {
        "colab": {
          "base_uri": "https://localhost:8080/"
        },
        "id": "NCFYu6LC4a4A",
        "outputId": "b468ed10-8755-4234-a66f-3617739ad3e6"
      },
      "execution_count": null,
      "outputs": [
        {
          "output_type": "stream",
          "name": "stdout",
          "text": [
            "\n",
            "Classification Report for pca & random forest:\n",
            "              precision    recall  f1-score   support\n",
            "\n",
            "           0       0.90      0.93      0.91        40\n",
            "           1       0.93      0.97      0.95        40\n",
            "           2       0.97      0.97      0.97        40\n",
            "           3       0.89      0.60      0.72        40\n",
            "           4       0.86      0.95      0.90        40\n",
            "           5       0.95      1.00      0.98        40\n",
            "           6       0.89      1.00      0.94        40\n",
            "           7       1.00      0.88      0.93        40\n",
            "           8       0.97      0.93      0.95        40\n",
            "           9       1.00      0.93      0.96        40\n",
            "          10       0.95      0.95      0.95        40\n",
            "          11       0.90      0.95      0.93        40\n",
            "          12       0.94      0.82      0.88        40\n",
            "          13       0.87      0.97      0.92        40\n",
            "          14       0.97      0.90      0.94        40\n",
            "          15       0.97      0.95      0.96        40\n",
            "          16       0.93      0.97      0.95        40\n",
            "          17       1.00      0.97      0.99        40\n",
            "          18       0.87      0.85      0.86        40\n",
            "          19       0.93      1.00      0.96        40\n",
            "          20       1.00      0.95      0.97        40\n",
            "          21       0.95      0.95      0.95        40\n",
            "          22       0.67      0.78      0.72        40\n",
            "          23       1.00      0.93      0.96        40\n",
            "          24       0.85      0.97      0.91        40\n",
            "          25       0.97      0.97      0.97        40\n",
            "          26       0.93      0.97      0.95        40\n",
            "          27       1.00      0.95      0.97        40\n",
            "          28       0.93      0.97      0.95        40\n",
            "          29       0.97      0.97      0.97        40\n",
            "          30       1.00      0.95      0.97        40\n",
            "          31       0.95      0.95      0.95        40\n",
            "          32       0.93      0.93      0.93        40\n",
            "          33       0.97      0.97      0.97        40\n",
            "          34       1.00      1.00      1.00        40\n",
            "          35       0.92      0.88      0.90        40\n",
            "          36       0.88      0.95      0.92        40\n",
            "          37       1.00      1.00      1.00        40\n",
            "\n",
            "    accuracy                           0.94      1520\n",
            "   macro avg       0.94      0.94      0.94      1520\n",
            "weighted avg       0.94      0.94      0.94      1520\n",
            "\n"
          ]
        }
      ]
    },
    {
      "cell_type": "code",
      "source": [
        "from keras.callbacks import TensorBoard\n",
        "def plot_confusion_matrix(cm, class_names):\n",
        "    import itertools\n",
        "    import io\n",
        "    \"\"\"\n",
        "    Returns a matplotlib figure containing the plotted confusion matrix.\n",
        "    \n",
        "    Args:\n",
        "       cm (array, shape = [n, n]): a confusion matrix of integer classes\n",
        "       class_names (array, shape = [n]): String names of the integer classes\n",
        "    \"\"\"\n",
        "    \n",
        "    figure = plt.figure(figsize=(16, 16))\n",
        "    plt.imshow(cm, interpolation='nearest', cmap=plt.cm.Blues)\n",
        "    plt.title(\"Confusion matrix\")\n",
        "    plt.colorbar()\n",
        "    tick_marks = np.arange(len(class_names))\n",
        "    plt.xticks(tick_marks, class_names, rotation=45)\n",
        "    plt.yticks(tick_marks, class_names)\n",
        "    \n",
        "    # Normalize the confusion matrix.\n",
        "    cm = np.around(cm.astype('float') / cm.sum(axis=1)[:, np.newaxis], decimals=2)\n",
        "    \n",
        "    # Use white text if squares are dark; otherwise black.\n",
        "    threshold = cm.max() / 2.\n",
        "    \n",
        "    for i, j in itertools.product(range(cm.shape[0]), range(cm.shape[1])):\n",
        "        color = \"white\" if cm[i, j] > threshold else \"black\"\n",
        "        plt.text(j, i, cm[i, j], horizontalalignment=\"center\", color=color)\n",
        "        \n",
        "    plt.tight_layout()\n",
        "    plt.ylabel('True label')\n",
        "    plt.xlabel('Predicted label')\n",
        "    return figure\n",
        "from datetime import datetime\n",
        "import keras\n",
        "logdir = \"logs/fit\" + datetime.now().strftime(\"%Y%m%d-%H%M%S\")\n",
        "tensorboard_callback = keras.callbacks.TensorBoard(log_dir = logdir, histogram_freq = 1)\n",
        "file_writer_cm = tf.summary.create_file_writer(logdir + '/cm')\n",
        "\n",
        "def plot_to_image(figure):\n",
        "    import io\n",
        "    \"\"\"\n",
        "    Converts the matplotlib plot specified by 'figure' to a PNG image and\n",
        "    returns it. The supplied figure is closed and inaccessible after this call.\n",
        "    \"\"\"\n",
        "    \n",
        "    buf = io.BytesIO()\n",
        "    \n",
        "    # Use plt.savefig to save the plot to a PNG in memory.\n",
        "    plt.savefig(buf, format='png')\n",
        "    \n",
        "    # Closing the figure prevents it from being displayed directly inside\n",
        "    # the notebook.\n",
        "    plt.close(figure)\n",
        "    buf.seek(0)\n",
        "    \n",
        "    # Use tf.image.decode_png to convert the PNG buffer\n",
        "    # to a TF image. Make sure you use 4 channels.\n",
        "    image = tf.image.decode_png(buf.getvalue(), channels=4)\n",
        "    \n",
        "    # Use tf.expand_dims to add the batch dimension\n",
        "    image = tf.expand_dims(image, 0)\n",
        "    \n",
        "    return image\n",
        "epoch=10\n",
        "def log_confusion_matrix(epoch, logs):\n",
        "    \n",
        "    # Use the model to predict the values from the test_images.\n",
        "    test_pred_raw = model.predict(test_images)\n",
        "    \n",
        "    test_pred = np.argmax(test_pred_raw, axis=1)\n",
        "    \n",
        "    # Calculate the confusion matrix using sklearn.metrics\n",
        "    cm = sklearn.metrics.confusion_matrix(test_labels, test_pred)\n",
        "    \n",
        "    figure = plot_confusion_matrix(cm, class_names=class_names)\n",
        "    cm_image = plot_to_image(figure)\n",
        "    \n",
        "    # Log the confusion matrix as an image summary.\n",
        "    with file_writer_cm.as_default():\n",
        "        tf.summary.image(\"Confusion Matrix\", cm_image, step=epoch)\n",
        "#cm_callback = keras.callbacks.LambdaCallback(on_epoch_end=log_confusion_matrix)"
      ],
      "metadata": {
        "id": "I1Sm13W14eMq"
      },
      "execution_count": null,
      "outputs": []
    },
    {
      "cell_type": "code",
      "source": [
        "\n",
        "history=model.fit_generator(datagen.flow(images_train, class_train, batch_size = 128),\n",
        "                    steps_per_epoch = 128, # number of samples per gradient update\n",
        "                    epochs = 500, # number of iterations\n",
        "                    validation_data= (images_test, class_test),\n",
        "                    \n",
        "                    verbose=1)\n"
      ],
      "metadata": {
        "colab": {
          "base_uri": "https://localhost:8080/"
        },
        "id": "gLp6ikRe3QaA",
        "outputId": "930411cc-b55e-457f-a5f7-d9be4ada235d"
      },
      "execution_count": null,
      "outputs": [
        {
          "output_type": "stream",
          "name": "stderr",
          "text": [
            "/usr/local/lib/python3.7/dist-packages/ipykernel_launcher.py:7: UserWarning: `Model.fit_generator` is deprecated and will be removed in a future version. Please use `Model.fit`, which supports generators.\n",
            "  import sys\n"
          ]
        },
        {
          "output_type": "stream",
          "name": "stdout",
          "text": [
            "Epoch 1/500\n",
            " 87/128 [===================>..........] - ETA: 18s - loss: 0.6724 - accuracy: 0.8259WARNING:tensorflow:Your input ran out of data; interrupting training. Make sure that your dataset or generator can generate at least `steps_per_epoch * epochs` batches (in this case, 64000 batches). You may need to use the repeat() function when building your dataset.\n",
            "128/128 [==============================] - 40s 307ms/step - loss: 0.6724 - accuracy: 0.8259 - val_loss: 0.8052 - val_accuracy: 0.8849\n"
          ]
        }
      ]
    }
  ],
  "metadata": {
    "accelerator": "GPU",
    "colab": {
      "collapsed_sections": [
        "NaTnTnnGxDBs",
        "8VRSUnJrVx36"
      ],
      "machine_shape": "hm",
      "provenance": []
    },
    "kernelspec": {
      "display_name": "Python 3",
      "name": "python3"
    },
    "language_info": {
      "name": "python"
    }
  },
  "nbformat": 4,
  "nbformat_minor": 0
}